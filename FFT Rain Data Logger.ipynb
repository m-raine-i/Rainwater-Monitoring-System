# Fourier Transform

# Step 1: Import libraries
import pandas as pd
import numpy as np
import matplotlib.pyplot as plt

# Step 2: Load published Google Sheet as CSV
sheet_url = "https://docs.google.com/spreadsheets/d/e/2PACX-1vTnBHi20fVOhu9sJhfk8-6Sxh_M0WmrIfncUunLQrUEKcd9fRzX24as2yoWR8Q-YzNz_SZXcnzK99Xi/pub?output=csv"
df = pd.read_csv(sheet_url)
df.columns = ['timestamp', 'rain_value']

# Step 3: Clean and convert data
df.dropna(inplace=True)
df['timestamp'] = pd.to_numeric(df['timestamp'], errors='coerce')
df['rain_value'] = pd.to_numeric(df['rain_value'], errors='coerce')
df.dropna(inplace=True)

# Step 4: Sort and compute sampling info
df = df.sort_values('timestamp')
timestamps = df['timestamp'].values
values = df['rain_value'].values
interval = np.mean(np.diff(timestamps))
fs = 1 / interval  # sampling frequency

print(f"Sampling Interval: {interval:.2f}s | Sampling Frequency: {fs:.4f} Hz")

# Step 5: Remove DC offset
signal = values - np.mean(values)

# Step 6: FFT
N = len(signal)
fft_result = np.fft.fft(signal)
frequencies = np.fft.fftfreq(N, d=interval)

# Step 7: Plot frequency spectrum
plt.figure(figsize=(10,5))
plt.plot(frequencies[:N//2], np.abs(fft_result[:N//2]))
plt.title("Frequency Spectrum (FFT) of Rain Sensor Signal")
plt.xlabel("Frequency (Hz)")
plt.ylabel("Magnitude")
plt.grid(True)
plt.show()

# Step 8: Low-pass filtering (remove high-frequency noise)
cutoff_hz = 0.1  # change this as needed based on signal
filtered_fft = fft_result.copy()
filtered_fft[np.abs(frequencies) > cutoff_hz] = 0

# Step 9: Reconstruct signal using inverse FFT
filtered_signal = np.fft.ifft(filtered_fft).real

# Step 10: Plot original vs filtered signal
plt.figure(figsize=(10,5))
plt.plot(df['timestamp'], values, label='Original Signal')
plt.plot(df['timestamp'], filtered_signal, label='Filtered Signal (Low-pass)', linestyle='--')
plt.title("Noise Reduction via Frequency Filtering")
plt.xlabel("Time")
plt.ylabel("Rain Sensor Value")
plt.legend()
plt.grid(True)
plt.show()
