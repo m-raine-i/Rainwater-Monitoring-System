
#Fourier Series

import pandas as pd
import numpy as np
import matplotlib.pyplot as plt

# Load published CSV from Google Sheets
sheet_url = "https://docs.google.com/spreadsheets/d/e/2PACX-1vTnBHi20fVOhu9sJhfk8-6Sxh_M0WmrIfncUunLQrUEKcd9fRzX24as2yoWR8Q-YzNz_SZXcnzK99Xi/pub?output=csv"
df = pd.read_csv(sheet_url)
df.columns = ['timestamp', 'rain_value']

# Clean and prepare
df.dropna(inplace=True)
df['timestamp'] = pd.to_numeric(df['timestamp'], errors='coerce')
df['rain_value'] = pd.to_numeric(df['rain_value'], errors='coerce')
df.dropna(inplace=True)

# Sort and convert time
df = df.sort_values('timestamp')
t = df['timestamp'].values
y = df['rain_value'].values
t = t - t[0]  # Normalize time to start at 0
T = t[-1]  # total time span
N = len(t)

# Fourier Series parameters
n_harmonics = 10
w0 = 2 * np.pi / T  # fundamental angular frequency

# Compute a0
a0 = (2 / T) * np.trapz(y, t)

# Compute an, bn
an = []
bn = []
for n in range(1, n_harmonics + 1):
    cos_term = np.cos(n * w0 * t)
    sin_term = np.sin(n * w0 * t)
    an_n = (2 / T) * np.trapz(y * cos_term, t)
    bn_n = (2 / T) * np.trapz(y * sin_term, t)
    an.append(an_n)
    bn.append(bn_n)

# Reconstruct signal
y_reconstructed = a0 / 2 * np.ones_like(t)
for n in range(1, n_harmonics + 1):
    y_reconstructed += an[n-1] * np.cos(n * w0 * t) + bn[n-1] * np.sin(n * w0 * t)

# Plot original vs reconstructed
plt.figure(figsize=(10, 5))
plt.plot(t, y, label="Original Signal")
plt.plot(t, y_reconstructed, label=f"Fourier Series ({n_harmonics} harmonics)", linestyle='--')
plt.title("Rain Sensor Data - Fourier Series Approximation")
plt.xlabel("Time (s)")
plt.ylabel("Sensor Value")
plt.legend()
plt.grid(True)
plt.show()
